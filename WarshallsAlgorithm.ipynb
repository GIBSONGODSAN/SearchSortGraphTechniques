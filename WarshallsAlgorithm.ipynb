{
  "nbformat": 4,
  "nbformat_minor": 0,
  "metadata": {
    "colab": {
      "provenance": [],
      "authorship_tag": "ABX9TyPIOaBVsAPhKtMQqCPhvaqF",
      "include_colab_link": true
    },
    "kernelspec": {
      "name": "python3",
      "display_name": "Python 3"
    },
    "language_info": {
      "name": "python"
    }
  },
  "cells": [
    {
      "cell_type": "markdown",
      "metadata": {
        "id": "view-in-github",
        "colab_type": "text"
      },
      "source": [
        "<a href=\"https://colab.research.google.com/github/GIBSONGODSAN/SearchSortGraphTechniques/blob/main/WarshallsAlgorithm.ipynb\" target=\"_parent\"><img src=\"https://colab.research.google.com/assets/colab-badge.svg\" alt=\"Open In Colab\"/></a>"
      ]
    },
    {
      "cell_type": "markdown",
      "source": [
        "# WARSHALL'S ALGORITHM\n",
        "Warshall's algorithm is used to determine the transitive closure of a directed graph or all paths in a directed graph by using the adjacency matrix. For this, it generates a sequence of n matrices. Where, n is used to describe the number of vertices.\n",
        "\n",
        "    R(0), ..., R(k-1), R(k), ... , R(n)\n",
        "\n",
        "The algorithm of Warshall's Algorithm for computing transitive closure\n",
        "\n",
        "    Warshall(A[1...n, 1...n]) \n",
        "    // A is the adjacency matrix\n",
        "    R(0) ← A\n",
        "    for k ← 1 to n do\n",
        "      for i ← 1 to n do\n",
        "        for j ← to n do\n",
        "          R(k)[i, j] ← R(k-1)[i, j] or (R(k-1)[i, k] and R(k-1)[k, j])\n",
        "    return R(n)"
      ],
      "metadata": {
        "id": "SnyXMvULSlIF"
      }
    },
    {
      "cell_type": "code",
      "source": [
        "def warshall_transitive_closure(graph):\n",
        "    num_vertices = len(graph)\n",
        "\n",
        "    # Create a copy of the input graph to avoid modifying the original graph\n",
        "    transitive_closure = [row[:] for row in graph]\n",
        "\n",
        "    # Main loop for Warshall's algorithm\n",
        "    for k in range(num_vertices):\n",
        "        for i in range(num_vertices):\n",
        "            for j in range(num_vertices):\n",
        "                # If there is a path from vertex i to vertex k and\n",
        "                # from vertex k to vertex j, then there is a path\n",
        "                # from vertex i to vertex j\n",
        "                transitive_closure[i][j] = transitive_closure[i][j] or (transitive_closure[i][k] and transitive_closure[k][j])\n",
        "\n",
        "    return transitive_closure\n",
        "\n",
        "# Example usage\n",
        "\n",
        "# Example directed graph represented as an adjacency matrix\n",
        "graph = [\n",
        "    [1, 1, 0, 1],\n",
        "    [0, 1, 1, 0],\n",
        "    [0, 0, 1, 1],\n",
        "    [0, 0, 0, 1]\n",
        "]\n",
        "\n",
        "# Compute the transitive closure of the graph\n",
        "transitive_closure = warshall_transitive_closure(graph)\n",
        "\n",
        "# Print the transitive closure of the graph\n",
        "print(\"Transitive closure of the graph:\")\n",
        "for row in transitive_closure:\n",
        "    print(row)\n"
      ],
      "metadata": {
        "colab": {
          "base_uri": "https://localhost:8080/"
        },
        "id": "NOjhS4GOTNTd",
        "outputId": "9ccb3a28-50c8-4717-cb0d-d4fa6b2ac65a"
      },
      "execution_count": null,
      "outputs": [
        {
          "output_type": "stream",
          "name": "stdout",
          "text": [
            "Transitive closure of the graph:\n",
            "[1, 1, 1, 1]\n",
            "[0, 1, 1, 1]\n",
            "[0, 0, 1, 1]\n",
            "[0, 0, 0, 1]\n"
          ]
        }
      ]
    },
    {
      "cell_type": "markdown",
      "source": [
        " In this implementation, the input graph is represented as an adjacency matrix, where graph[i][j] represents the presence of an edge from vertex i to vertex j (1 if there is an edge, 0 otherwise). The output is a matrix transitive_closure where transitive_closure[i][j] is True if there is a path from vertex i to vertex j in the directed graph, and False otherwise. Warshall's algorithm has a time complexity of O(V^3), where V is the number of vertices in the graph, as it involves three nested loops."
      ],
      "metadata": {
        "id": "9C-Z9uBVUBAu"
      }
    }
  ]
}