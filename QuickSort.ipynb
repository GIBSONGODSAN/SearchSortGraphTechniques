{
  "nbformat": 4,
  "nbformat_minor": 0,
  "metadata": {
    "colab": {
      "provenance": [],
      "authorship_tag": "ABX9TyPqGVKJAY5f0p39+GSk/M/a",
      "include_colab_link": true
    },
    "kernelspec": {
      "name": "python3",
      "display_name": "Python 3"
    },
    "language_info": {
      "name": "python"
    }
  },
  "cells": [
    {
      "cell_type": "markdown",
      "metadata": {
        "id": "view-in-github",
        "colab_type": "text"
      },
      "source": [
        "<a href=\"https://colab.research.google.com/github/GIBSONGODSAN/SearchSortGraphTechniques/blob/main/QuickSort.ipynb\" target=\"_parent\"><img src=\"https://colab.research.google.com/assets/colab-badge.svg\" alt=\"Open In Colab\"/></a>"
      ]
    },
    {
      "cell_type": "markdown",
      "source": [
        "# QUICK SORT\n",
        "\n",
        "Sorting is a way of arranging items in a systematic manner. Quicksort is the widely used sorting algorithm that makes n log n comparisons in average case for sorting an array of n elements. It is a faster and highly efficient sorting algorithm. This algorithm follows the divide and conquer approach. Divide and conquer is a technique of breaking down the algorithms into subproblems, then solving the subproblems, and combining the results back together to solve the original problem.\n",
        "\n",
        "Divide: In Divide, first pick a pivot element. After that, partition or rearrange the array into two sub-arrays such that each element in the left sub-array is less than or equal to the pivot element and each element in the right sub-array is larger than the pivot element.\n",
        "\n",
        "Conquer: Recursively, sort two subarrays with Quicksort.\n",
        "\n",
        "###ALGORITHM\n",
        "    QUICKSORT (array A, start, end)     \n",
        "    {  \n",
        "      if (start < end)     \n",
        "      {  \n",
        "        p = partition(A, start, end)  \n",
        "        QUICKSORT (A, start, p - 1)    \n",
        "        QUICKSORT (A, p + 1, end)    \n",
        "      }   \n",
        "    }"
      ],
      "metadata": {
        "id": "YDR8PKwcWCYH"
      }
    },
    {
      "cell_type": "code",
      "source": [
        "import random\n",
        "import time\n",
        "import matplotlib.pyplot as plt"
      ],
      "metadata": {
        "id": "jumRjBLGWyLE"
      },
      "execution_count": null,
      "outputs": []
    },
    {
      "cell_type": "code",
      "source": [
        "# Quick sort function\n",
        "def quick_sort(arr, low, high):\n",
        "    if low < high:\n",
        "        pivot_idx = partition(arr, low, high)\n",
        "        quick_sort(arr, low, pivot_idx)\n",
        "        quick_sort(arr, pivot_idx + 1, high)"
      ],
      "metadata": {
        "id": "TT4NbRWNW-eg"
      },
      "execution_count": null,
      "outputs": []
    },
    {
      "cell_type": "code",
      "source": [
        "def partition(arr, low, high):\n",
        "    pivot = arr[low]\n",
        "    i = low + 1\n",
        "    j = high\n",
        "\n",
        "    while True:\n",
        "        while i <= j and arr[i] < pivot:\n",
        "            i += 1\n",
        "        while i <= j and arr[j] > pivot:\n",
        "            j -= 1\n",
        "        if i <= j:\n",
        "            arr[i], arr[j] = arr[j], arr[i]\n",
        "        else:\n",
        "            break\n",
        "\n",
        "    arr[low], arr[j] = arr[j], arr[low]\n",
        "    return j"
      ],
      "metadata": {
        "id": "k4ORwWdCW-kS"
      },
      "execution_count": null,
      "outputs": []
    },
    {
      "cell_type": "code",
      "source": [
        "# Function to measure time taken to sort an array using Quick Sort\n",
        "def measure_time(arr):\n",
        "    start_time = time.time()\n",
        "    quick_sort(arr, 0, len(arr) - 1)\n",
        "    end_time = time.time()\n",
        "    return end_time - start_time"
      ],
      "metadata": {
        "id": "Mv5QiHgeW-qr"
      },
      "execution_count": null,
      "outputs": []
    },
    {
      "cell_type": "code",
      "source": [
        "# Function to generate a random array of given size\n",
        "def generate_array(size):\n",
        "    return [random.randint(1, 1000) for _ in range(size)]"
      ],
      "metadata": {
        "id": "IMOfyjyUW-w7"
      },
      "execution_count": null,
      "outputs": []
    },
    {
      "cell_type": "code",
      "source": [
        "# Experiment with different values of n\n",
        "n_values = [10, 100, 500, 1000, 5000, 10000]\n",
        "time_taken = []\n",
        "\n",
        "for n in n_values:\n",
        "    arr = generate_array(n)\n",
        "    time_taken.append(measure_time(arr))\n"
      ],
      "metadata": {
        "id": "pv1gkctaZ5gw"
      },
      "execution_count": null,
      "outputs": []
    },
    {
      "cell_type": "code",
      "source": [
        "# Plot the graph\n",
        "plt.plot(n_values, time_taken)\n",
        "plt.xlabel('Number of Elements (n)')\n",
        "plt.ylabel('Time Taken (seconds)')\n",
        "plt.title('Quick Sort Time Complexity')\n",
        "plt.show()"
      ],
      "metadata": {
        "id": "2hP3aC6LZ5kD"
      },
      "execution_count": null,
      "outputs": []
    }
  ]
}