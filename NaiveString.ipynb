{
  "nbformat": 4,
  "nbformat_minor": 0,
  "metadata": {
    "colab": {
      "provenance": [],
      "authorship_tag": "ABX9TyN3t7WxF97+nXu1Hlrt/37Q",
      "include_colab_link": true
    },
    "kernelspec": {
      "name": "python3",
      "display_name": "Python 3"
    },
    "language_info": {
      "name": "python"
    }
  },
  "cells": [
    {
      "cell_type": "markdown",
      "metadata": {
        "id": "view-in-github",
        "colab_type": "text"
      },
      "source": [
        "<a href=\"https://colab.research.google.com/github/GIBSONGODSAN/SearchSortGraphTechniques/blob/main/NaiveString.ipynb\" target=\"_parent\"><img src=\"https://colab.research.google.com/assets/colab-badge.svg\" alt=\"Open In Colab\"/></a>"
      ]
    },
    {
      "cell_type": "markdown",
      "source": [
        "# Naive String Pattern Matching\n",
        "\n",
        "Naive string pattern matching is a simple string searching algorithm that searches for a given pattern in a text by scanning through the text and checking for a match at every possible position.\n",
        "\n",
        "  1. Let txt be the text and pat be the pattern.\n",
        "  2. Let n be the length of txt and m be the length of pat.\n",
        "  3. For i = 0 to n-m do the following:\n",
        "    a. For j = 0 to m-1 do the following:\n",
        "        i. If the jth character of pat doesn't match the (i+j)th character of txt, break out of the inner loop.\n",
        "        ii. If j is equal to m-1 and all characters of pat match with txt[i...i+m-1], print the index i as a match.\n"
      ],
      "metadata": {
        "id": "bV2HpdA3yfuM"
      }
    },
    {
      "cell_type": "code",
      "source": [
        "def search(pat, txt):\n",
        "    m = len(pat)\n",
        "    n = len(txt)\n",
        "    \n",
        "    # loop through txt searching for pattern\n",
        "    for i in range(n - m + 1):\n",
        "        j = 0\n",
        "        while(j < m):\n",
        "            if (txt[i+j] != pat[j]):\n",
        "                break\n",
        "            j += 1\n",
        "        if (j == m):\n",
        "            print(\"Pattern found at index \", i)\n",
        "\n",
        "# example usage\n",
        "txt = \"AABAACAADAABAAABAA\"\n",
        "pat = \"AABA\"\n",
        "search(pat, txt)\n"
      ],
      "metadata": {
        "colab": {
          "base_uri": "https://localhost:8080/"
        },
        "id": "_DOZPmk4z1Bm",
        "outputId": "df1c9482-8bc0-4880-e1fc-7e767177520b"
      },
      "execution_count": null,
      "outputs": [
        {
          "output_type": "stream",
          "name": "stdout",
          "text": [
            "Pattern found at index  0\n",
            "Pattern found at index  9\n",
            "Pattern found at index  13\n"
          ]
        }
      ]
    },
    {
      "cell_type": "markdown",
      "source": [
        "The algorithm works by scanning through the text txt and comparing each possible substring of length m with the pattern pat. If the substring matches the pattern, the index of the start of the substring is printed as a match."
      ],
      "metadata": {
        "id": "8TMc-AaNz5BV"
      }
    }
  ]
}