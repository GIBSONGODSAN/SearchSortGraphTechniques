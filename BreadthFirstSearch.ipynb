{
  "nbformat": 4,
  "nbformat_minor": 0,
  "metadata": {
    "colab": {
      "provenance": [],
      "authorship_tag": "ABX9TyMOQzniE+OxRsm8DXJc44VJ",
      "include_colab_link": true
    },
    "kernelspec": {
      "name": "python3",
      "display_name": "Python 3"
    },
    "language_info": {
      "name": "python"
    }
  },
  "cells": [
    {
      "cell_type": "markdown",
      "metadata": {
        "id": "view-in-github",
        "colab_type": "text"
      },
      "source": [
        "<a href=\"https://colab.research.google.com/github/GIBSONGODSAN/SearchSortGraphTechniques/blob/main/BreadthFirstSearch.ipynb\" target=\"_parent\"><img src=\"https://colab.research.google.com/assets/colab-badge.svg\" alt=\"Open In Colab\"/></a>"
      ]
    },
    {
      "cell_type": "markdown",
      "source": [
        "# Breadth First Search #\n",
        "Breadth-First Search (BFS) is an algorithm used for traversing graphs or trees. Traversing means visiting each node of the graph. Breadth-First Search is a recursive algorithm to search all the vertices of a graph or a tree. BFS in python can be implemented by using data structures like a dictionary and lists. Breadth-First Search in tree and graph is almost the same. The only difference is that the graph may contain cycles, so we may traverse to the same node again.\n",
        "\n",
        "The pseudocode for BFS in python goes as below:\n",
        "\n",
        "    create a queue Q \n",
        "\n",
        "    mark v as visited and put v into Q \n",
        "\n",
        "    while Q is non-empty \n",
        "\n",
        "        remove the head u of Q \n",
        "\n",
        "        mark and enqueue all (unvisited) neighbors of u"
      ],
      "metadata": {
        "id": "o1GqzOKs61VD"
      }
    },
    {
      "cell_type": "code",
      "source": [
        "graph = {\n",
        "  '5' : ['3','7'],\n",
        "  '3' : ['2', '4'],\n",
        "  '7' : ['8'],\n",
        "  '2' : [],\n",
        "  '4' : ['8'],\n",
        "  '8' : []\n",
        "}\n",
        "\n",
        "visited = [] # List for visited nodes.\n",
        "queue = []     #Initialize a queue\n",
        "\n",
        "def bfs(visited, graph, node): #function for BFS\n",
        "  visited.append(node)\n",
        "  queue.append(node)\n",
        "\n",
        "  while queue:          # Creating loop to visit each node\n",
        "    m = queue.pop(0) \n",
        "    print (m, end = \" \") \n",
        "\n",
        "    for neighbour in graph[m]:\n",
        "      if neighbour not in visited:\n",
        "        visited.append(neighbour)\n",
        "        queue.append(neighbour)\n",
        "\n",
        "# Driver Code\n",
        "print(\"Following is the Breadth-First Search\")\n",
        "bfs(visited, graph, '5')    # function calling"
      ],
      "metadata": {
        "colab": {
          "base_uri": "https://localhost:8080/"
        },
        "id": "DivTlGqv7NKl",
        "outputId": "da3a8bc5-bd0e-4d1d-e1f5-54dc0e4d75e2"
      },
      "execution_count": null,
      "outputs": [
        {
          "output_type": "stream",
          "name": "stdout",
          "text": [
            "Following is the Breadth-First Search\n",
            "5 3 7 2 4 8 "
          ]
        }
      ]
    },
    {
      "cell_type": "markdown",
      "source": [
        "Breadth-first Search Algorithm has a wide range of applications in the real-world. Some of them are as discussed below:\n",
        "\n",
        " In GPS navigation, it helps in finding the shortest path available from one point to another.\n",
        "\n",
        " In pathfinding algorithms\n",
        "\n",
        " Cycle detection in an undirected graph\n",
        "\n",
        " In minimum spanning tree\n",
        "\n",
        " To build index by search index\n",
        " \n",
        " In Ford-Fulkerson algorithm to find maximum flow in a network."
      ],
      "metadata": {
        "id": "EjL7KHtqGvDn"
      }
    }
  ]
}