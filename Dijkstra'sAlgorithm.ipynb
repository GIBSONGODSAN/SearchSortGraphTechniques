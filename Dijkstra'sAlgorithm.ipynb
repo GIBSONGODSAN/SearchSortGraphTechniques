{
  "nbformat": 4,
  "nbformat_minor": 0,
  "metadata": {
    "colab": {
      "provenance": [],
      "authorship_tag": "ABX9TyOlehEU/KTgBmI/iBRR41PQ",
      "include_colab_link": true
    },
    "kernelspec": {
      "name": "python3",
      "display_name": "Python 3"
    },
    "language_info": {
      "name": "python"
    }
  },
  "cells": [
    {
      "cell_type": "markdown",
      "metadata": {
        "id": "view-in-github",
        "colab_type": "text"
      },
      "source": [
        "<a href=\"https://colab.research.google.com/github/GIBSONGODSAN/SearchSortGraphTechniques/blob/main/Dijkstra'sAlgorithm.ipynb\" target=\"_parent\"><img src=\"https://colab.research.google.com/assets/colab-badge.svg\" alt=\"Open In Colab\"/></a>"
      ]
    },
    {
      "cell_type": "markdown",
      "source": [
        "# DIJKSTRA'S ALGORITHM \n",
        "Dijkstra Algorithm Python is an algorithm in python that is used to find out the shortest distance or path between any 2 vertices. This is something different from the minimum spanning tree because the shortest distance between any 2 vertices can be in such a way that it doesn't include all the vertices of the vertices. This Dijkstra algorithm is even used in navigation systems by google maps, uber/ola rides, etc.\n",
        "\n",
        "\n",
        "A minimum priority queue can be used to efficiently receive the vertex with least path distance.\n",
        "\n",
        "    function dijkstra(G, S)\n",
        "        for each vertex V in G\n",
        "            distance[V] <- infinite\n",
        "            previous[V] <- NULL\n",
        "            If V != S, add V to Priority Queue Q\n",
        "        distance[S] <- 0\n",
        "      \n",
        "        while Q IS NOT EMPTY\n",
        "            U <- Extract MIN from Q\n",
        "            for each unvisited neighbour V of U\n",
        "                tempDistance <- distance[U] + edge_weight(U, V)\n",
        "                if tempDistance < distance[V]\n",
        "                    distance[V] <- tempDistance\n",
        "                    previous[V] <- U\n",
        "        return distance[], previous[]"
      ],
      "metadata": {
        "id": "5J-V7dPpHhbn"
      }
    },
    {
      "cell_type": "code",
      "source": [
        "# Dijkstra's Algorithm in Python\n",
        "\n",
        "\n",
        "import sys\n",
        "\n",
        "# Providing the graph\n",
        "vertices = [[0, 0, 1, 1, 0, 0, 0],\n",
        "            [0, 0, 1, 0, 0, 1, 0],\n",
        "            [1, 1, 0, 1, 1, 0, 0],\n",
        "            [1, 0, 1, 0, 0, 0, 1],\n",
        "            [0, 0, 1, 0, 0, 1, 0],\n",
        "            [0, 1, 0, 0, 1, 0, 1],\n",
        "            [0, 0, 0, 1, 0, 1, 0]]\n",
        "\n",
        "edges = [[0, 0, 1, 2, 0, 0, 0],\n",
        "         [0, 0, 2, 0, 0, 3, 0],\n",
        "         [1, 2, 0, 1, 3, 0, 0],\n",
        "         [2, 0, 1, 0, 0, 0, 1],\n",
        "         [0, 0, 3, 0, 0, 2, 0],\n",
        "         [0, 3, 0, 0, 2, 0, 1],\n",
        "         [0, 0, 0, 1, 0, 1, 0]]\n",
        "\n",
        "# Find which vertex is to be visited next\n",
        "def to_be_visited():\n",
        "    global visited_and_distance\n",
        "    v = -10\n",
        "    for index in range(num_of_vertices):\n",
        "        if visited_and_distance[index][0] == 0 \\\n",
        "            and (v < 0 or visited_and_distance[index][1] <=\n",
        "                 visited_and_distance[v][1]):\n",
        "            v = index\n",
        "    return v\n",
        "\n",
        "\n",
        "num_of_vertices = len(vertices[0])\n",
        "\n",
        "visited_and_distance = [[0, 0]]\n",
        "for i in range(num_of_vertices-1):\n",
        "    visited_and_distance.append([0, sys.maxsize])\n",
        "\n",
        "for vertex in range(num_of_vertices):\n",
        "\n",
        "    # Find next vertex to be visited\n",
        "    to_visit = to_be_visited()\n",
        "    for neighbor_index in range(num_of_vertices):\n",
        "\n",
        "        # Updating new distances\n",
        "        if vertices[to_visit][neighbor_index] == 1 and \\\n",
        "                visited_and_distance[neighbor_index][0] == 0:\n",
        "            new_distance = visited_and_distance[to_visit][1] \\\n",
        "                + edges[to_visit][neighbor_index]\n",
        "            if visited_and_distance[neighbor_index][1] > new_distance:\n",
        "                visited_and_distance[neighbor_index][1] = new_distance\n",
        "        \n",
        "        visited_and_distance[to_visit][0] = 1\n",
        "\n",
        "i = 0\n",
        "\n",
        "# Printing the distance\n",
        "for distance in visited_and_distance:\n",
        "    print(\"Distance of \", chr(ord('a') + i),\n",
        "          \" from source vertex: \", distance[1])\n",
        "    i = i + 1"
      ],
      "metadata": {
        "colab": {
          "base_uri": "https://localhost:8080/"
        },
        "id": "29ISUzw7Jxsx",
        "outputId": "3bbf3a33-f244-4101-85fd-0353c4dd1e10"
      },
      "execution_count": null,
      "outputs": [
        {
          "output_type": "stream",
          "name": "stdout",
          "text": [
            "Distance of  a  from source vertex:  0\n",
            "Distance of  b  from source vertex:  3\n",
            "Distance of  c  from source vertex:  1\n",
            "Distance of  d  from source vertex:  2\n",
            "Distance of  e  from source vertex:  4\n",
            "Distance of  f  from source vertex:  4\n",
            "Distance of  g  from source vertex:  3\n"
          ]
        }
      ]
    },
    {
      "cell_type": "markdown",
      "source": [
        "Dijkstra's Algorithm Applications\n",
        "\n",
        "To find the shortest path\n",
        "\n",
        "In social networking applications\n",
        "\n",
        "In a telephone network\n",
        "\n",
        "To find the locations in the map"
      ],
      "metadata": {
        "id": "GBlLF1_TJ4Bg"
      }
    }
  ]
}