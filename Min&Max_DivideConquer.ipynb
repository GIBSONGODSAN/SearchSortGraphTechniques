{
  "nbformat": 4,
  "nbformat_minor": 0,
  "metadata": {
    "colab": {
      "provenance": [],
      "authorship_tag": "ABX9TyPSg8Q77qbjqnNimZIAfs/5",
      "include_colab_link": true
    },
    "kernelspec": {
      "name": "python3",
      "display_name": "Python 3"
    },
    "language_info": {
      "name": "python"
    }
  },
  "cells": [
    {
      "cell_type": "markdown",
      "metadata": {
        "id": "view-in-github",
        "colab_type": "text"
      },
      "source": [
        "<a href=\"https://colab.research.google.com/github/GIBSONGODSAN/SearchSortGraphTechniques/blob/main/Min%26Max_DivideConquer.ipynb\" target=\"_parent\"><img src=\"https://colab.research.google.com/assets/colab-badge.svg\" alt=\"Open In Colab\"/></a>"
      ]
    },
    {
      "cell_type": "markdown",
      "source": [
        "# DIVIDE AND CONQUER \n",
        "\n",
        "In this approach, the array is divided into two halves. Then using recursive approach maximum and minimum numbers in each halves are found. Later, return the maximum of two maxima of each half and the minimum of two minima of each half.\n",
        "\n",
        "In this given problem, the number of elements in an array is y−x+1\n",
        ", where y is greater than or equal to x.\n",
        "\n",
        "Max−Min(x,y)\n",
        " will return the maximum and minimum values of an array numbers[x...y]\n",
        "\n",
        "    Algorithm: Max - Min(x, y) \n",
        "    if y – x ≤ 1 then  \n",
        "      return (max(numbers[x], numbers[y]), min((numbers[x], numbers[y])) \n",
        "    else \n",
        "      (max1, min1):= maxmin(x, ⌊((x + y)/2)⌋) \n",
        "      (max2, min2):= maxmin(⌊((x + y)/2) + 1)⌋,y) \n",
        "    return (max(max1, max2), min(min1, min2))"
      ],
      "metadata": {
        "id": "Jzul4MujUGG8"
      }
    },
    {
      "cell_type": "code",
      "source": [
        "def find_max_min(arr, low, high):\n",
        "    # Base case: If the list contains only one element,\n",
        "    # return it as both maximum and minimum\n",
        "    if low == high:\n",
        "        return arr[low], arr[high]\n",
        "\n",
        "    # Divide the list into two halves\n",
        "    mid = (low + high) // 2\n",
        "    max1, min1 = find_max_min(arr, low, mid)  # Maximum and minimum of first half\n",
        "    max2, min2 = find_max_min(arr, mid + 1, high)  # Maximum and minimum of second half\n",
        "\n",
        "    # Compare the maximum and minimum of the two halves\n",
        "    max_val = max(max1, max2)\n",
        "    min_val = min(min1, min2)\n",
        "\n",
        "    return max_val, min_val\n",
        "\n",
        "# Example usage\n",
        "\n",
        "# Input list of numbers\n",
        "arr = [3, 8, 1, 7, 6, 2, 9, 4, 5]\n",
        "\n",
        "# Call the function to find maximum and minimum\n",
        "max_val, min_val = find_max_min(arr, 0, len(arr) - 1)\n",
        "\n",
        "# Print the maximum and minimum numbers\n",
        "print(\"Maximum number:\", max_val)\n",
        "print(\"Minimum number:\", min_val)\n"
      ],
      "metadata": {
        "colab": {
          "base_uri": "https://localhost:8080/"
        },
        "id": "kG-Sm9X7UL6O",
        "outputId": "3b4d6fa6-dd61-4bca-ee6d-76b7840d9e1e"
      },
      "execution_count": null,
      "outputs": [
        {
          "output_type": "stream",
          "name": "stdout",
          "text": [
            "Maximum number: 9\n",
            "Minimum number: 1\n"
          ]
        }
      ]
    },
    {
      "cell_type": "markdown",
      "source": [
        "In this implementation, the function find_max_min() takes in a list of numbers, along with the low and high indices that represent the subarray to be considered. The function uses a divide-and-conquer approach by recursively dividing the list into two halves until the base case of having only one element is reached. Then, it compares the maximum and minimum of the two halves and returns the maximum and minimum values. The time complexity of this algorithm is O(n), where n is the number of elements in the list, as each element is compared exactly once during the recursion."
      ],
      "metadata": {
        "id": "iu0EBI5lUTiH"
      }
    }
  ]
}