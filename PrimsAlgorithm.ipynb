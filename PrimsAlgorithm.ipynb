{
  "nbformat": 4,
  "nbformat_minor": 0,
  "metadata": {
    "colab": {
      "provenance": [],
      "authorship_tag": "ABX9TyMTZoT9TWs9EmdxqAJlIPxw",
      "include_colab_link": true
    },
    "kernelspec": {
      "name": "python3",
      "display_name": "Python 3"
    },
    "language_info": {
      "name": "python"
    }
  },
  "cells": [
    {
      "cell_type": "markdown",
      "metadata": {
        "id": "view-in-github",
        "colab_type": "text"
      },
      "source": [
        "<a href=\"https://colab.research.google.com/github/GIBSONGODSAN/SearchSortGraphTechniques/blob/main/PrimsAlgorithm.ipynb\" target=\"_parent\"><img src=\"https://colab.research.google.com/assets/colab-badge.svg\" alt=\"Open In Colab\"/></a>"
      ]
    },
    {
      "cell_type": "markdown",
      "source": [
        "# PRIM'S ALGORITHM \n",
        "\n",
        "Prim’s algorithm is a minimum spanning tree algorithm which helps to find out the edges of the graph to form the tree including every node with the minimum sum of weights to form the minimum spanning tree. Prim’s algorithm starts with the single source node and later explore all the adjacent nodes of the source node with all the connecting edges. While we are exploring the graphs, we will choose the edges with the minimum weight and those which cannot cause the cycles in the graph.\n",
        "\n",
        "Pseudocode\n",
        "\n",
        "    T = ∅;\n",
        "    M = { 1 };\n",
        "    while (M ≠ N)\n",
        "        let (m, n) be the lowest cost edge such that m ∈ M and n ∈ N - M;\n",
        "        T = T ∪ {(m, n)}\n",
        "        M = M ∪ {n}"
      ],
      "metadata": {
        "id": "NnO_Hhq-J8s8"
      }
    },
    {
      "cell_type": "code",
      "source": [
        "# Prim's Algorithm in Python\n",
        "\n",
        "INF = 9999999\n",
        "# number of vertices in graph\n",
        "N = 5\n",
        "#creating graph by adjacency matrix method\n",
        "G = [[0, 19, 5, 0, 0],\n",
        "     [19, 0, 5, 9, 2],\n",
        "     [5, 5, 0, 1, 6],\n",
        "     [0, 9, 1, 0, 1],\n",
        "     [0, 2, 6, 1, 0]]\n",
        "\n",
        "selected_node = [0, 0, 0, 0, 0]\n",
        "\n",
        "no_edge = 0\n",
        "\n",
        "selected_node[0] = True\n",
        "\n",
        "# printing for edge and weight\n",
        "print(\"Edge : Weight\\n\")\n",
        "while (no_edge < N - 1):\n",
        "    \n",
        "    minimum = INF\n",
        "    a = 0\n",
        "    b = 0\n",
        "    for m in range(N):\n",
        "        if selected_node[m]:\n",
        "            for n in range(N):\n",
        "                if ((not selected_node[n]) and G[m][n]):  \n",
        "                    # not in selected and there is an edge\n",
        "                    if minimum > G[m][n]:\n",
        "                        minimum = G[m][n]\n",
        "                        a = m\n",
        "                        b = n\n",
        "    print(str(a) + \"-\" + str(b) + \":\" + str(G[a][b]))\n",
        "    selected_node[b] = True\n",
        "    no_edge += 1\n"
      ],
      "metadata": {
        "colab": {
          "base_uri": "https://localhost:8080/"
        },
        "id": "SCHCushqQ9v2",
        "outputId": "f399374a-4100-4f76-d4fd-3589df521a04"
      },
      "execution_count": null,
      "outputs": [
        {
          "output_type": "stream",
          "name": "stdout",
          "text": [
            "Edge : Weight\n",
            "\n",
            "0-2:5\n",
            "2-3:1\n",
            "3-4:1\n",
            "4-1:2\n"
          ]
        }
      ]
    },
    {
      "cell_type": "markdown",
      "source": [
        "###TIME COMPLEXITY\n",
        "\n",
        "The running time for prim’s algorithm is O(VlogV + ElogV) which is equal to O(ElogV) because every insertion of a node in the solution takes logarithmic time. Here, E is the number of edges and V is the number of vertices/nodes. However, we can improve the running time complexity to O(E + logV) of prim’s algorithm using Fibonacci Heaps. \n",
        "\n",
        "###Applications\n",
        "Prim’s algorithm is used in network design\n",
        "\n",
        "It is used in network cycles and rail tracks connecting all the cities\n",
        "\n",
        "Prim’s algorithm is used in laying cables of electrical wiring\n",
        "\n",
        "Prim’s algorithm is used in irrigation channels and placing microwave towers\n",
        "\n",
        "It is used in cluster analysis\n",
        "\n",
        "Prim’s algorithm is used in gaming development and cognitive science\n",
        "\n",
        "Pathfinding algorithms in artificial intelligence and traveling salesman \n",
        "problems make use of prim’s algorithm.\n"
      ],
      "metadata": {
        "id": "UIU9k38ZRGz2"
      }
    }
  ]
}