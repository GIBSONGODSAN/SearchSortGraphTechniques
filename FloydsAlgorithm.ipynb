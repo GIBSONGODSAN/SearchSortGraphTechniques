{
  "nbformat": 4,
  "nbformat_minor": 0,
  "metadata": {
    "colab": {
      "provenance": [],
      "authorship_tag": "ABX9TyPjrHH5ktBmcAplpY7HKQuk",
      "include_colab_link": true
    },
    "kernelspec": {
      "name": "python3",
      "display_name": "Python 3"
    },
    "language_info": {
      "name": "python"
    }
  },
  "cells": [
    {
      "cell_type": "markdown",
      "metadata": {
        "id": "view-in-github",
        "colab_type": "text"
      },
      "source": [
        "<a href=\"https://colab.research.google.com/github/GIBSONGODSAN/SearchSortGraphTechniques/blob/main/FloydsAlgorithm.ipynb\" target=\"_parent\"><img src=\"https://colab.research.google.com/assets/colab-badge.svg\" alt=\"Open In Colab\"/></a>"
      ]
    },
    {
      "cell_type": "markdown",
      "source": [
        "#  FLOYD'S ALGORITHM \n",
        "\n",
        "Floyd's algorithm is a dynamic programming-based algorithm used to find the shortest paths between all pairs of vertices in a weighted directed graph. The algorithm uses a bottom-up approach, iteratively updating the distances between pairs of vertices until the shortest paths between all pairs of vertices are computed.\n",
        "\n",
        "###PSUEDOCODE\n",
        "\n",
        "    n = no of vertices\n",
        "    A = matrix of dimension n*n\n",
        "    for k = 1 to n\n",
        "        for i = 1 to n\n",
        "            for j = 1 to n\n",
        "                Ak[i, j] = min (Ak-1[i, j], Ak-1[i, k] + Ak-1[k, j])\n",
        "    return A"
      ],
      "metadata": {
        "id": "I1ourfDKRwEC"
      }
    },
    {
      "cell_type": "code",
      "source": [
        "import sys\n",
        "\n",
        "def floyd_warshall(graph):\n",
        "    num_vertices = len(graph)\n",
        "    # Create a copy of the input graph to avoid modifying the original graph\n",
        "    dist = [row[:] for row in graph]\n",
        "\n",
        "    # Main loop for Floyd's algorithm\n",
        "    for k in range(num_vertices):\n",
        "        for i in range(num_vertices):\n",
        "            for j in range(num_vertices):\n",
        "                # If vertex k can be used to form a shorter path from i to j,\n",
        "                # update the distance\n",
        "                if dist[i][k] + dist[k][j] < dist[i][j]:\n",
        "                    dist[i][j] = dist[i][k] + dist[k][j]\n",
        "\n",
        "    return dist\n",
        "\n",
        "# Example usage\n",
        "\n",
        "# Example weighted directed graph represented as an adjacency matrix\n",
        "# Here, 'inf' represents infinity or unreachability\n",
        "graph = [\n",
        "    [0, 5, sys.maxsize, 10],\n",
        "    [sys.maxsize, 0, 3, sys.maxsize],\n",
        "    [sys.maxsize, sys.maxsize, 0, 1],\n",
        "    [sys.maxsize, sys.maxsize, sys.maxsize, 0]\n",
        "]\n",
        "\n",
        "# Compute the shortest paths between all pairs of vertices\n",
        "shortest_distances = floyd_warshall(graph)\n",
        "\n",
        "# Print the shortest distances between all pairs of vertices\n",
        "print(\"Shortest distances between all pairs of vertices:\")\n",
        "for i in range(len(shortest_distances)):\n",
        "    for j in range(len(shortest_distances)):\n",
        "        if shortest_distances[i][j] == sys.maxsize:\n",
        "            print(\"Vertex\", i, \"to Vertex\", j, \": No Path\")\n",
        "        else:\n",
        "            print(\"Vertex\", i, \"to Vertex\", j, \":\", shortest_distances[i][j])\n"
      ],
      "metadata": {
        "colab": {
          "base_uri": "https://localhost:8080/"
        },
        "id": "zNp8SYxGSN1p",
        "outputId": "2c554c80-8f86-43c1-8cf7-b2026d64cfd6"
      },
      "execution_count": null,
      "outputs": [
        {
          "output_type": "stream",
          "name": "stdout",
          "text": [
            "Shortest distances between all pairs of vertices:\n",
            "Vertex 0 to Vertex 0 : 0\n",
            "Vertex 0 to Vertex 1 : 5\n",
            "Vertex 0 to Vertex 2 : 8\n",
            "Vertex 0 to Vertex 3 : 9\n",
            "Vertex 1 to Vertex 0 : No Path\n",
            "Vertex 1 to Vertex 1 : 0\n",
            "Vertex 1 to Vertex 2 : 3\n",
            "Vertex 1 to Vertex 3 : 4\n",
            "Vertex 2 to Vertex 0 : No Path\n",
            "Vertex 2 to Vertex 1 : No Path\n",
            "Vertex 2 to Vertex 2 : 0\n",
            "Vertex 2 to Vertex 3 : 1\n",
            "Vertex 3 to Vertex 0 : No Path\n",
            "Vertex 3 to Vertex 1 : No Path\n",
            "Vertex 3 to Vertex 2 : No Path\n",
            "Vertex 3 to Vertex 3 : 0\n"
          ]
        }
      ]
    },
    {
      "cell_type": "markdown",
      "source": [
        "###Floyd Warshall Algorithm Applications\n",
        "\n",
        "To find the shortest path is a directed graph\n",
        "\n",
        "To find the transitive closure of directed graphs\n",
        "\n",
        "To find the Inversion of real matrices\n",
        "\n",
        "For testing whether an undirected graph is bipartite\n"
      ],
      "metadata": {
        "id": "Q8Mr9lFrSglx"
      }
    }
  ]
}