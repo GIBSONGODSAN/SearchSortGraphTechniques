{
  "nbformat": 4,
  "nbformat_minor": 0,
  "metadata": {
    "colab": {
      "provenance": [],
      "authorship_tag": "ABX9TyMQBk1cRuddZy+lOKJefAO9",
      "include_colab_link": true
    },
    "kernelspec": {
      "name": "python3",
      "display_name": "Python 3"
    },
    "language_info": {
      "name": "python"
    }
  },
  "cells": [
    {
      "cell_type": "markdown",
      "metadata": {
        "id": "view-in-github",
        "colab_type": "text"
      },
      "source": [
        "<a href=\"https://colab.research.google.com/github/GIBSONGODSAN/SearchSortGraphTechniques/blob/main/DepthFirstSearch.ipynb\" target=\"_parent\"><img src=\"https://colab.research.google.com/assets/colab-badge.svg\" alt=\"Open In Colab\"/></a>"
      ]
    },
    {
      "cell_type": "markdown",
      "source": [
        "# DEPTH FIRST SEARCH\n",
        "The Depth-First Search is a recursive algorithm that uses the concept of backtracking. It involves thorough searches of all the nodes by going ahead if potential, else by backtracking. Here, the word backtrack means once you are moving forward and there are not any more nodes along the present path, you progress backward on an equivalent path to seek out nodes to traverse. All the nodes are progressing to be visited on the current path until all the unvisited nodes are traversed after which subsequent paths are going to be selected.\n",
        "\n",
        "  `The pseudocode for Depth-First Search in python goes as below: In the init() function, notice that we run the DFS function on every node because many times, a graph may contain two different disconnected part and therefore to make sure that we have visited every vertex, we can also run the DFS algorithm at every node.\n",
        "\n",
        "    DFS(G, u)\n",
        "\n",
        "        u.visited = true\n",
        "\n",
        "        for each v ∈ G.Adj[u]\n",
        "\n",
        "            if v.visited == false\n",
        "\n",
        "                DFS(G,v)   \n",
        "\n",
        "    init() {\n",
        "\n",
        "        For each u ∈ G\n",
        "\n",
        "            u.visited = false\n",
        "\n",
        "        For each u ∈ G\n",
        "\n",
        "          DFS(G, u)\n",
        "\n",
        "    }"
      ],
      "metadata": {
        "id": "4loZ1YtuG1h1"
      }
    },
    {
      "cell_type": "code",
      "source": [
        "# Using a Python dictionary to act as an adjacency list\n",
        "graph = {\n",
        "  '5' : ['3','7'],\n",
        "  '3' : ['2', '4'],\n",
        "  '7' : ['8'],\n",
        "  '2' : [],\n",
        "  '4' : ['8'],\n",
        "  '8' : []\n",
        "}\n",
        "\n",
        "visited = set() # Set to keep track of visited nodes of graph.\n",
        "\n",
        "def dfs(visited, graph, node):  #function for dfs \n",
        "    if node not in visited:\n",
        "        print (node)\n",
        "        visited.add(node)\n",
        "        for neighbour in graph[node]:\n",
        "            dfs(visited, graph, neighbour)\n",
        "\n",
        "# Driver Code\n",
        "print(\"Following is the Depth-First Search\")\n",
        "dfs(visited, graph, '5')"
      ],
      "metadata": {
        "colab": {
          "base_uri": "https://localhost:8080/"
        },
        "id": "DCnK5YcaHJOo",
        "outputId": "2842349f-add5-4a51-dc03-1f4152d05cb3"
      },
      "execution_count": null,
      "outputs": [
        {
          "output_type": "stream",
          "name": "stdout",
          "text": [
            "Following is the Depth-First Search\n",
            "5\n",
            "3\n",
            "2\n",
            "4\n",
            "8\n",
            "7\n"
          ]
        }
      ]
    },
    {
      "cell_type": "markdown",
      "source": [
        "Depth-First Search Algorithm has a wide range of applications for practical purposes. Some of them are as discussed below:\n",
        "\n",
        "For finding the strongly connected components of the graph\n",
        "\n",
        "For finding the path\n",
        "\n",
        "To test if the graph is bipartite\n",
        "\n",
        "For detecting cycles in a graph\n",
        "\n",
        "Topological Sorting\n",
        "\n",
        "Solving the puzzle with only one solution.\n",
        "\n",
        "Network Analysis\n",
        "\n",
        "Mapping Routes\n",
        "\n",
        "Scheduling a problem"
      ],
      "metadata": {
        "id": "zRf1ElP4HXkg"
      }
    }
  ]
}